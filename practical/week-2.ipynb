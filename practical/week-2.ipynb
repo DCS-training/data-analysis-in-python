{
 "cells": [
  {
   "cell_type": "markdown",
   "id": "ac334335-c0ea-4c03-b193-84e34310f313",
   "metadata": {},
   "source": [
    "# Introduction to data analysis in Python: Week 2\n",
    "\n",
    "This week, we're going to be using the [Palmer Penguins](https://allisonhorst.github.io/palmerpenguins/articles/intro.html) dataset. This dataset contains size measurements for three penguin species observed on three islands in the Palmer Archipelago, Antarctica. The data was collected from 2007-2009 by Dr. Kristen Gorman with the Palmer Station Long Term Ecological Research Program.\n",
    "\n",
    "The dataset contains the following columns:\n",
    "\n",
    "1. **Species:** The dataset includes three species of penguins: Adelie, Chinstrap, and Gentoo. Each species has distinct physical characteristics and behaviors.\n",
    "2. **Island:** Penguins in the dataset were observed on three different islands: Biscoe, Dream, and Torgersen. These islands are part of the Palmer Archipelago in Antarctica.\n",
    "3. **Bill Length (mm):** Length of a penguin's bill in millimeters. Bill length can vary significantly between species and is an important characteristic for identifying species.\n",
    "4. **Bill Depth (mm):** Depth of a penguin's bill in millimeters. Bill depth, like bill length, is an important characteristic for species identification.\n",
    "5. **Flipper Length (mm):** Length of a penguin's flipper in millimeters. Flipper length is related to a penguin's swimming ability and varies between species.\n",
    "6. **Body Mass (g):** Body mass of a penguin in grams. Body mass can provide insights into the health and nutrition of the penguins.\n",
    "7. **Sex:** Male or female.\n",
    "8. **Year:** The year when the observation was made.\n",
    "\n",
    "## Getting set up\n",
    "\n",
    "As with last week, the first thing we need to do is import the packages we'll be using and then read in our dataset. This week, since we're moving on to data visualisation, we'll also need to load a couple of additional packages: ``seaborn`` is a wrapper on ``matplotlib`` which makes it easy to work with pandas dataframes, but we still need to import matplotlib to get access to some basic functions."
   ]
  },
  {
   "cell_type": "code",
   "execution_count": null,
   "id": "a2d56754-929f-43c4-b0d1-dd6a5300ca88",
   "metadata": {},
   "outputs": [],
   "source": [
    "# Import the packages\n",
    "import pandas as pd\n",
    "import numpy as np\n",
    "import matplotlib.pyplot as plt\n",
    "import seaborn as sns"
   ]
  },
  {
   "cell_type": "code",
   "execution_count": null,
   "id": "13e7b73f-2a94-4796-b049-2655cb4704dd",
   "metadata": {},
   "outputs": [],
   "source": [
    "# Read in the data\n",
    "data = pd.read_csv(\"penguins.csv\")"
   ]
  },
  {
   "cell_type": "code",
   "execution_count": null,
   "id": "3e32e1dc-8085-4e7c-9631-8d8ab8fd6455",
   "metadata": {},
   "outputs": [],
   "source": [
    "# Visually inspect the data\n",
    "data.head(10)"
   ]
  },
  {
   "cell_type": "code",
   "execution_count": null,
   "id": "05eeae90-6c3a-4742-93d6-b404ecc41943",
   "metadata": {},
   "outputs": [],
   "source": [
    "# Get a quick summary of the dataframe\n",
    "data.info()"
   ]
  },
  {
   "cell_type": "code",
   "execution_count": null,
   "id": "0650ee23-95e3-4105-9e2f-28b9172e68c1",
   "metadata": {},
   "outputs": [],
   "source": [
    "data.isnull().sum()"
   ]
  },
  {
   "cell_type": "markdown",
   "id": "96cc8e7e-092e-495b-93a1-754d99e623e6",
   "metadata": {},
   "source": [
    "Ok, so it doesn't look like we've got much missing data in this dataset, that's nice! But I can see one thing here I want to deal with before I start my analysis: the ``rowid`` column is stored as an integer, but ID columns should really be categorical (since it would be pretty meaningless to calculate any statistics on them, like a mean!). Here's an easy way to convert it:"
   ]
  },
  {
   "cell_type": "code",
   "execution_count": null,
   "id": "a3bb5b08-96d4-4af7-acd7-d3e7102b0afe",
   "metadata": {},
   "outputs": [],
   "source": [
    "data[\"rowid\"] = data[\"rowid\"].astype(\"category\")"
   ]
  },
  {
   "cell_type": "markdown",
   "id": "5c39095b-69e3-420b-852f-04848e989441",
   "metadata": {},
   "source": [
    "You can also decide whether you'd like to do anything with the missing data -- it might not be a terrible idea to just drop all rows with any missing data in this case since there's only 11 rows in that category. But it might also depend on whether you're actually interested in sex, which is where most of the missing data is -- no point throwing away rows with data you do care about if you don't care about sex!"
   ]
  },
  {
   "cell_type": "code",
   "execution_count": null,
   "id": "e7275bff-c5ad-4c1e-a0ba-2769ea3d39ec",
   "metadata": {},
   "outputs": [],
   "source": [
    "# Deal with missing data as desired"
   ]
  },
  {
   "cell_type": "markdown",
   "id": "277adbf9-b6c4-4f04-b689-f088d435c217",
   "metadata": {},
   "source": [
    "Finally, you might want to perform some data cleaning here, like sending all the text columns to lowercase and stripping whitespace. Refer back to the Week 1 notebook to remind you how to perform these steps!"
   ]
  },
  {
   "cell_type": "code",
   "execution_count": null,
   "id": "889b7a2b-4a46-44af-85e1-59569625ccab",
   "metadata": {},
   "outputs": [],
   "source": [
    "# Carry out any necessary data cleaning"
   ]
  },
  {
   "cell_type": "markdown",
   "id": "4b34f3cc-2610-4382-8e5d-5b4083b733d9",
   "metadata": {},
   "source": [
    "## Calculating basic summary statistics\n",
    "\n",
    "Pandas provides several methods to generate descriptive statistics that summarise the central tendency, dispersion, and shape of a dataset's distribution.\n",
    "\n",
    "The ``describe()`` function generates summary statistics for numerical columns in the dataset, including count (the number of rows with a non-null value), mean, standard deviation, minimum and maximum values, as well as the 25th, 50th (median), and 75th percentiles."
   ]
  },
  {
   "cell_type": "code",
   "execution_count": null,
   "id": "e960ffda-6633-4e44-a1b9-65c8adead979",
   "metadata": {},
   "outputs": [],
   "source": [
    "# Generate summary statistics for numerical columns\n",
    "data.describe()"
   ]
  },
  {
   "cell_type": "markdown",
   "id": "e674adca-ade2-4be1-824c-557d8a10575b",
   "metadata": {},
   "source": [
    "We can also give ``describe()`` an additional argument to generate a comprehensive overview of the whole dataset, including summary statistics for both numerical and categorical columns."
   ]
  },
  {
   "cell_type": "code",
   "execution_count": null,
   "id": "2b71dd25-77d2-47f4-93da-47e8c55ff117",
   "metadata": {},
   "outputs": [],
   "source": [
    "data.describe(include=\"all\")"
   ]
  },
  {
   "cell_type": "markdown",
   "id": "a9bd5065-a08e-470c-a604-bc2ec64650c7",
   "metadata": {},
   "source": [
    "We can also calculate any of the statistics included in these tables individually. The next cell calculates the mean (average) value for each numerical column in the dataset. The mean provides a measure of the central tendency of the data."
   ]
  },
  {
   "cell_type": "code",
   "execution_count": null,
   "id": "03bc3b71-9ab1-4dfe-a630-248a223e2761",
   "metadata": {},
   "outputs": [],
   "source": [
    "data.mean(numeric_only=True)"
   ]
  },
  {
   "cell_type": "markdown",
   "id": "e39ae82a-afaa-44c4-bfa8-fb2e5d5d4896",
   "metadata": {},
   "source": [
    "We can also call functions like these on a specific column or columns, using the syntax we learned last week to select subsets of columns."
   ]
  },
  {
   "cell_type": "code",
   "execution_count": null,
   "id": "9340db75-10cc-4a9d-81eb-24778813a422",
   "metadata": {},
   "outputs": [],
   "source": [
    "data[[\"bill_length_mm\", \"flipper_length_mm\"]].mean()"
   ]
  },
  {
   "cell_type": "markdown",
   "id": "ba0d69de-6d27-4f7e-95fd-ea95ce7069d9",
   "metadata": {},
   "source": [
    "The `median()` function calculates the median value for each numerical column in the dataset. The median is the middle value when the data is sorted, providing another measure of central tendency that is less sensitive to outliers than the mean."
   ]
  },
  {
   "cell_type": "code",
   "execution_count": null,
   "id": "7ff342cc-152b-4096-8b00-6ed1bee87c47",
   "metadata": {},
   "outputs": [],
   "source": [
    "data.median(numeric_only=True)"
   ]
  },
  {
   "cell_type": "markdown",
   "id": "938ed1d0-2a5a-4079-954f-d5b9faea6277",
   "metadata": {},
   "source": [
    "The next cell computes the standard deviation for each numerical column in the dataset. The standard deviation measures the amount of variation or dispersion in the data, indicating how spread out the values are from the mean."
   ]
  },
  {
   "cell_type": "code",
   "execution_count": null,
   "id": "64c7d43e-544a-4d47-b546-5da7688214d2",
   "metadata": {},
   "outputs": [],
   "source": [
    "data.std(numeric_only=True)"
   ]
  },
  {
   "cell_type": "markdown",
   "id": "dce0ee17-8055-48b2-8073-f724d8481a88",
   "metadata": {},
   "source": [
    "The ``min()`` and ``max()`` functions calculate the minimum and maximum value for each numerical column. These functions help identify the range of the data."
   ]
  },
  {
   "cell_type": "code",
   "execution_count": null,
   "id": "5a5f0438-498d-4d17-987d-7054ded60d69",
   "metadata": {},
   "outputs": [],
   "source": [
    "data.min(numeric_only=True)"
   ]
  },
  {
   "cell_type": "code",
   "execution_count": null,
   "id": "af25e421-a0f7-459b-88b3-080cd806e9b9",
   "metadata": {},
   "outputs": [],
   "source": [
    "data.max(numeric_only=True)"
   ]
  },
  {
   "cell_type": "markdown",
   "id": "58b7ab5b-1563-4249-aa51-ac4f45bbd20c",
   "metadata": {},
   "source": [
    "The next cell calculates the variance for each numerical column in the dataset. Variance measures the average squared deviation of each number from the mean, providing another way to understand data dispersion."
   ]
  },
  {
   "cell_type": "code",
   "execution_count": null,
   "id": "c482e288-49f3-4358-9106-329036586919",
   "metadata": {},
   "outputs": [],
   "source": [
    "data.var(numeric_only=True)"
   ]
  },
  {
   "cell_type": "markdown",
   "id": "67515803-b973-48fc-94da-1b1971d3833e",
   "metadata": {},
   "source": [
    "We can also calculate summary statistics for categorical columns. A very common one is ``value_counts()``, which calculates how often each unique value in a given column occurs."
   ]
  },
  {
   "cell_type": "code",
   "execution_count": null,
   "id": "9f2a5d65-c54c-4e3d-9e3e-053e3b5c4e24",
   "metadata": {},
   "outputs": [],
   "source": [
    "data[\"species\"].value_counts()"
   ]
  },
  {
   "cell_type": "markdown",
   "id": "d42906da-c82a-4563-96e8-8907bb3f851f",
   "metadata": {},
   "source": [
    "We can also add an extra argument to this function to get normalised value counts, which are proportions of the total count rather than raw counts."
   ]
  },
  {
   "cell_type": "code",
   "execution_count": null,
   "id": "b678263f-b3d7-44a9-8e0c-fc913e50d9d1",
   "metadata": {},
   "outputs": [],
   "source": [
    "data[\"species\"].value_counts(normalize=True)"
   ]
  },
  {
   "cell_type": "markdown",
   "id": "c35878bf-e7d0-4a30-b2c4-9ca62e1788be",
   "metadata": {},
   "source": [
    "This is a fairly simple dataset, but if you were working with data where your column of interest had many unique values, it might be helpful to sort by frequency to see at a glance which value has the most/least observations (change ``ascending=False`` to ``True`` in the following cell to see the least common species first). By default, ``value_counts()`` will ignore missing data, but if you want to include a count of missing rows, you can add ``dropna=False`` as an argument."
   ]
  },
  {
   "cell_type": "code",
   "execution_count": null,
   "id": "1d3be668-7bc8-4dd7-81df-b66c343deb59",
   "metadata": {},
   "outputs": [],
   "source": [
    "data[\"species\"].value_counts().sort_values(ascending=False)"
   ]
  },
  {
   "cell_type": "markdown",
   "id": "23518f53-b6cb-43af-a3b8-cf716938cfeb",
   "metadata": {},
   "source": [
    "You can also get a list of the unique values in a given column, as follows:"
   ]
  },
  {
   "cell_type": "code",
   "execution_count": null,
   "id": "32caf092-1866-4551-8d1d-26f0c76fd00f",
   "metadata": {},
   "outputs": [],
   "source": [
    "list(data[\"species\"].unique())"
   ]
  },
  {
   "cell_type": "markdown",
   "id": "79348f71-2542-4cd8-97e5-45ecb2e18a8c",
   "metadata": {},
   "source": [
    "Obviously in this case you can see at a glance how many different species there are, but again, if you were working with a more complex dataset, you might need to extract that information with code."
   ]
  },
  {
   "cell_type": "code",
   "execution_count": null,
   "id": "fd85253c-c74b-46a6-8981-8527337d1074",
   "metadata": {},
   "outputs": [],
   "source": [
    "data[\"species\"].nunique()"
   ]
  },
  {
   "cell_type": "markdown",
   "id": "f5406450-3507-402d-bd3d-17b88e37ff0d",
   "metadata": {},
   "source": [
    "Think about any other statistics you might like to calculate on a particular column and have a go at looking up the functions you'd need for those!"
   ]
  },
  {
   "cell_type": "code",
   "execution_count": null,
   "id": "70e8d6be-1ac1-44dc-9abd-618704a65424",
   "metadata": {},
   "outputs": [],
   "source": []
  },
  {
   "cell_type": "code",
   "execution_count": null,
   "id": "f4d8f703-32f1-4627-9e3d-2c89af53bbbb",
   "metadata": {},
   "outputs": [],
   "source": []
  },
  {
   "cell_type": "markdown",
   "id": "4b6f0d39-c739-4369-a09a-70e2c5e2b547",
   "metadata": {},
   "source": [
    "Last week, we saw that we could use filtering to focus on specific parts of a dataset which meet certain criteria. We can combine this logic with the summary statistics we've learned above. For example, maybe we only want to know about flipper length for Gentoo penguins."
   ]
  },
  {
   "cell_type": "code",
   "execution_count": null,
   "id": "2d36ea77-11cc-4f9c-908e-278da90fdd65",
   "metadata": {},
   "outputs": [],
   "source": [
    "data[data[\"species\"] == \"Gentoo\"][\"flipper_length_mm\"].mean()"
   ]
  },
  {
   "cell_type": "markdown",
   "id": "146e03df-5cb5-466c-b94d-f7858405f876",
   "metadata": {},
   "source": [
    "Have a play with some more complex filtering operations and calculate summary statistics on the resulting output."
   ]
  },
  {
   "cell_type": "code",
   "execution_count": null,
   "id": "58fca57f-6dad-4d25-92bb-7611d7d13ad4",
   "metadata": {},
   "outputs": [],
   "source": []
  },
  {
   "cell_type": "code",
   "execution_count": null,
   "id": "d48c318d-7f5b-4895-a2d8-f59d1e604656",
   "metadata": {},
   "outputs": [],
   "source": []
  },
  {
   "cell_type": "markdown",
   "id": "9235ad1e-30e8-449d-850a-4760f4cf0dca",
   "metadata": {},
   "source": [
    "## Grouping data\n",
    "\n",
    "Grouping is a super common operation in data analysis. In short, grouping by a variable means collapsing a dataframe down to one row per unique value of that variable. For example, if we group by species in the penguins dataset, we would be left with 3 rows. We can also group by multiple variables, which will collapse the dataframe down to one row per unique combination of all values of all variables. For example, if we grouped by species and sex, we would be left with 6 rows (3 species x 2 sexes). Once we have our groups, we can calculate statistics with them in the same way as we did above. For example:"
   ]
  },
  {
   "cell_type": "code",
   "execution_count": null,
   "id": "dfab5fc2-db47-4c81-9cff-648a42fb1090",
   "metadata": {},
   "outputs": [],
   "source": [
    "data.groupby(\"species\").mean(numeric_only=True)"
   ]
  },
  {
   "cell_type": "code",
   "execution_count": null,
   "id": "85d155ea-3573-4047-8098-1965daf05848",
   "metadata": {},
   "outputs": [],
   "source": [
    "data.groupby([\"species\", \"sex\"]).mean(numeric_only=True)"
   ]
  },
  {
   "cell_type": "markdown",
   "id": "9c95e582-40a6-4b3e-95c4-321d7304eb3b",
   "metadata": {},
   "source": [
    "We can also calculate statistics for just one column or a subset of columns, as follows:"
   ]
  },
  {
   "cell_type": "code",
   "execution_count": null,
   "id": "137caeb0-8913-4337-aadc-1eabc9bbaa39",
   "metadata": {},
   "outputs": [],
   "source": [
    "# Calculate the mean of a single column\n",
    "data.groupby(\"species\")[\"bill_length_mm\"].mean()"
   ]
  },
  {
   "cell_type": "code",
   "execution_count": null,
   "id": "69d764e3-a9f6-4eda-aa47-9586c2785e51",
   "metadata": {},
   "outputs": [],
   "source": [
    "# Calculate the mean of a subset of columns\n",
    "data.groupby(\"species\")[[\"bill_length_mm\", \"flipper_length_mm\"]].mean()"
   ]
  },
  {
   "cell_type": "markdown",
   "id": "7931fcc6-ecc7-401e-acc6-95689cded086",
   "metadata": {},
   "source": [
    "We can also use the ``agg()`` function to apply multiple aggregate functions to the grouped data, as follows:"
   ]
  },
  {
   "cell_type": "code",
   "execution_count": null,
   "id": "9cd2e4e8-62a6-4510-ac8c-69fb0cc6f350",
   "metadata": {},
   "outputs": [],
   "source": [
    "data.groupby(\"species\").agg({\n",
    "    \"bill_length_mm\": \"mean\",\n",
    "    \"flipper_length_mm\": \"max\",\n",
    "    \"body_mass_g\":\"std\"\n",
    "})"
   ]
  },
  {
   "cell_type": "markdown",
   "id": "ebafeda5-8a83-49ab-82f1-20db6efd65e1",
   "metadata": {},
   "source": [
    "The ``transform()`` function lets us apply a function to each group and return a transformed version of the data. For example, we might want to measure body mass for each individual in terms of deviation from the mean for that penguin's species -- this is also known as \"centering\". It puts penguins with an average body mass for their species at zero, those who are heavier than average above zero, and those who are lighter than average below zero."
   ]
  },
  {
   "cell_type": "code",
   "execution_count": null,
   "id": "9de54f17-ce1b-4249-bad2-a8af7ccbd523",
   "metadata": {},
   "outputs": [],
   "source": [
    "data[\"normalised_body_mass\"] = data.groupby(\"species\")[\"body_mass_g\"].transform(lambda x: (x - x.mean()) / x.std())\n",
    "data.head()"
   ]
  },
  {
   "cell_type": "markdown",
   "id": "a079d868-8e9c-475b-8c18-2c73b072ee10",
   "metadata": {},
   "source": [
    "Try grouping by some different variables and calculating some other summary statistics. Also, as an exercise, think about what would happen if you tried grouping by a numerical column and why this might not be a great idea!"
   ]
  },
  {
   "cell_type": "code",
   "execution_count": null,
   "id": "4eb6040d-1d15-4c13-b84a-4eed00cf4e69",
   "metadata": {},
   "outputs": [],
   "source": []
  },
  {
   "cell_type": "code",
   "execution_count": null,
   "id": "3d9810b2-1b48-4a65-8b4c-0531fcf3bfed",
   "metadata": {},
   "outputs": [],
   "source": []
  },
  {
   "cell_type": "markdown",
   "id": "4c06227a-a6ab-4346-816f-08e904c3b3fd",
   "metadata": {},
   "source": [
    "## Cross-tabs and pivot tables\n",
    "\n",
    "Cross-tabulations and pivot tables allow us to summarise the data in a matrix format, providing insights into relationships between variables.\n",
    "\n",
    "We can use the the ``crosstab()`` function to create a cross-tabulation of the species and island columns. The resulting table shows the frequency of each species on each island. The `margins=True` parameter in the `crosstab()` function adds row and column totals to the cross-tabulation. This helps in understanding the overall distribution and totals for each category -- see what it looks like if you remove it!"
   ]
  },
  {
   "cell_type": "code",
   "execution_count": null,
   "id": "7115ee34-bc6f-4c0d-b15c-02a3693c0aaf",
   "metadata": {},
   "outputs": [],
   "source": [
    "pd.crosstab(data['species'], data['island'], margins=True)"
   ]
  },
  {
   "cell_type": "markdown",
   "id": "d4dea32a-c9ff-4447-8726-0e2aad6183db",
   "metadata": {},
   "source": [
    "We can also normalise cross-tabs to show proportions instead of raw counts. ``normalize=\"index\"`` scales the counts to proportions within each row. You can also use ``normalize=\"columns\"`` or ``normalize=\"all\"``."
   ]
  },
  {
   "cell_type": "code",
   "execution_count": null,
   "id": "cadfe5fd-a95e-4278-ac86-83ab086ac5b1",
   "metadata": {},
   "outputs": [],
   "source": [
    "pd.crosstab(data['species'], data['island'], margins=True, normalize=\"index\")"
   ]
  },
  {
   "cell_type": "markdown",
   "id": "e5cf0539-1cb8-4f91-84f5-481afc68959c",
   "metadata": {},
   "source": [
    "The `pivot_table()` function is used to create a basic pivot table with species as the index and island as the columns. The values in the following pivot table are the average body mass (body_mass_g) for each combination of species and sex, but you can try passing a different statistic to ``aggfunc``."
   ]
  },
  {
   "cell_type": "code",
   "execution_count": null,
   "id": "c364a75b-95ad-48f3-a11e-6c20c3483a32",
   "metadata": {},
   "outputs": [],
   "source": [
    "data.pivot_table(values='body_mass_g', index='species', columns='sex', aggfunc='mean')"
   ]
  },
  {
   "cell_type": "markdown",
   "id": "40e39900-079f-45e1-bc4d-74f793ea1123",
   "metadata": {},
   "source": [
    "You can also pass a list of aggregation functions to ``aggfunc``, as follows:"
   ]
  },
  {
   "cell_type": "code",
   "execution_count": null,
   "id": "bcc16020-bc79-406a-b992-b9e767159c7b",
   "metadata": {},
   "outputs": [],
   "source": [
    "data.pivot_table(values='body_mass_g', index='species', columns='sex', aggfunc=['mean', 'median'])"
   ]
  },
  {
   "cell_type": "markdown",
   "id": "ff260108-03a1-49a2-a7c8-575c6cc0d41e",
   "metadata": {},
   "source": [
    "Finally, pivot tables can also have multiple index columns, as follows:"
   ]
  },
  {
   "cell_type": "code",
   "execution_count": null,
   "id": "4b3388d2-cf50-47b4-854d-6e1f8cb97f6e",
   "metadata": {},
   "outputs": [],
   "source": [
    "data.pivot_table(values='body_mass_g', index=['species', 'island'], columns='sex', aggfunc=['mean', 'median'])"
   ]
  },
  {
   "cell_type": "markdown",
   "id": "17a23833-4d21-4525-9c75-f17c678aad9e",
   "metadata": {},
   "source": [
    "Try making some other cross-tabs and pivot tables for different variables and statistics."
   ]
  },
  {
   "cell_type": "code",
   "execution_count": null,
   "id": "6c7adad6-50e7-407f-bb94-b4f8dd962141",
   "metadata": {},
   "outputs": [],
   "source": []
  },
  {
   "cell_type": "code",
   "execution_count": null,
   "id": "7c9b5cfa-546c-49a3-bbaa-56264e1fbbb0",
   "metadata": {},
   "outputs": [],
   "source": []
  },
  {
   "cell_type": "markdown",
   "id": "6781fb82-576b-4903-8268-3940f37d50fd",
   "metadata": {},
   "source": [
    "## Data visualisation\n",
    "\n",
    "Ok, we've looked at a lot of tables and other text-based methods of representing our data -- now let's see how to summarise our data more visually! For this, we're going to use the ``seaborn`` library which we loaded at the top of this notebook. The documentation for this library has a really nice [tutorial section](https://seaborn.pydata.org/tutorial.html) which is worth checking out.\n",
    "\n",
    "**A confession and a disclaimer:** I don't really get on with Python for data visualisation. I find ggplot in R much more intuitive, simple and easily customisable, so I almost never make visualisations that will actually go into my talks/papers in Python -- I generally just use it for quick and dirty plots to help me make sense of data that I'm working with on the fly. That being said, I learned base ``matplotlib`` when I first started doing data analysis in Python, and the ``seaborn`` package we're going to use here is definitely a lot more user friendly than that, so you might quite like it!\n",
    "\n",
    "First, I'm going to add a column to the dataframe to assign a colour to each species because I like the colour palette used in the [Palmer Penguins R package](https://allisonhorst.github.io/palmerpenguins/articles/intro.html). We can then use this palette to colour the data in our plots. If you don't like this palette, you can specify a different one! There's a loooong [list of named colours](https://matplotlib.org/stable/gallery/color/named_colors.html) available in matplotlib."
   ]
  },
  {
   "cell_type": "code",
   "execution_count": null,
   "id": "d5e6d7a0-e356-4209-8826-e813f4885db3",
   "metadata": {},
   "outputs": [],
   "source": [
    "# Create the colour mapping\n",
    "colour_palette = {\n",
    "    \"Adelie\": \"darkorange\",\n",
    "    \"Chinstrap\": \"purple\",\n",
    "    \"Gentoo\": \"cadetblue\"\n",
    "}"
   ]
  },
  {
   "cell_type": "markdown",
   "id": "b97c9f12-d717-4540-94b1-942bcd8aaa5b",
   "metadata": {},
   "source": [
    "First, let's just make a histogram to see how many penguins we have of each colour. There's a bunch of arguments to the ``sns.histplot()`` function below -- the first few should be obvious, but try playing around with the others to see what they do!"
   ]
  },
  {
   "cell_type": "code",
   "execution_count": null,
   "id": "66779cac-895c-463c-afbf-dce5d507ebb4",
   "metadata": {},
   "outputs": [],
   "source": [
    "sns.histplot(data=data, x=\"species\", hue=\"species\", palette=colour_palette, shrink=0.8, alpha=1, edgecolor=\"none\", legend=False)"
   ]
  },
  {
   "cell_type": "markdown",
   "id": "8b1497e1-375c-4295-b38d-6408bc86021b",
   "metadata": {},
   "source": [
    "We might also want to see how flipper length and bill length are related: presumably penguins with bigger flippers are just bigger overall, and therefore also have bigger bills, so there should be a positive correlation?"
   ]
  },
  {
   "cell_type": "code",
   "execution_count": null,
   "id": "0f8f5c94-c46e-4468-8008-bb4d923c4ee2",
   "metadata": {},
   "outputs": [],
   "source": [
    "sns.scatterplot(data=data, x=\"flipper_length_mm\", y=\"bill_length_mm\", color=\"black\")"
   ]
  },
  {
   "cell_type": "markdown",
   "id": "0db1183a-6021-4fb0-95cd-f5585ec9c718",
   "metadata": {},
   "source": [
    "Now let's add some more nuance to this, by colouring the points according to penguin species. We can also use some basic matplotlib functions to customise the axis and legend labels and add a title. You can use any number of these commands as long as they're in the same cell as the line of code that creates the plot they apply to."
   ]
  },
  {
   "cell_type": "code",
   "execution_count": null,
   "id": "68de2a6b-f0c7-4a1f-a1ba-fd6c5f28c3b5",
   "metadata": {},
   "outputs": [],
   "source": [
    "sns.scatterplot(data=data, x=\"flipper_length_mm\", y=\"bill_length_mm\", hue=\"species\", palette=colour_palette)\n",
    "plt.xlabel(\"Flipper length (mm)\")\n",
    "plt.ylabel(\"Bill length (mm)\")\n",
    "plt.title(\"Flipper length vs. bill length for three penguin species\")\n",
    "plt.legend(title=\"Species\")"
   ]
  },
  {
   "cell_type": "markdown",
   "id": "020b76b5-7d9e-4e5d-8586-4098be0c387c",
   "metadata": {},
   "source": [
    "One thing to notice is that when I wanted all the points to be the same colour, I did this with ``color=\"black\"``, but when I wanted to colour the points according to a variable in the dataframe, the argument was called ``hue`` instead. Mixing these two things up is a common cause of error messages when working with colour!\n",
    "\n",
    "You can also do scatter plots with line(s) of best fit. To fit a single line of best fit to all the data, use ``sns.regplot``. To fit a different line to different groups, use ``sns.lmplot``."
   ]
  },
  {
   "cell_type": "code",
   "execution_count": null,
   "id": "b8ab935e-92d5-40fd-88fa-9d264e5b5558",
   "metadata": {},
   "outputs": [],
   "source": [
    "sns.regplot(data=data, x=\"flipper_length_mm\", y=\"bill_length_mm\", color=\"black\")"
   ]
  },
  {
   "cell_type": "code",
   "execution_count": null,
   "id": "09d11147-351a-4f81-b68a-85a2614acbe3",
   "metadata": {},
   "outputs": [],
   "source": [
    "sns.lmplot(data=data, x=\"flipper_length_mm\", y=\"bill_length_mm\", hue=\"species\", palette=colour_palette, legend=False)"
   ]
  },
  {
   "cell_type": "markdown",
   "id": "5ef423fd-4bc9-4454-bb71-a231d7ff77d8",
   "metadata": {},
   "source": [
    "Both of these functions will fit a linear regression line by default, but you can specify different kinds of fit (like quadratic) with the ``order`` parameter, or you can specify ``logistic=True`` to get a sigmoid curve. We won't go through these more advanced options today -- in this case, linear looks good! \n",
    "\n",
    "Now let's have a look at a different way of visualising flipper length, as a distribution. In the next cell, the ``multiple=layer`` argument tells Seaborn what to do with overlapping data. The other options for this are \"stack\", \"fill\" or \"dodge\" -- try them all and see which you like best! You can also leave this option out to see what the default behaviour for overlapping data is."
   ]
  },
  {
   "cell_type": "code",
   "execution_count": null,
   "id": "51553e86-7c10-4a3e-bf66-69b4efa1efb4",
   "metadata": {},
   "outputs": [],
   "source": [
    "sns.histplot(data=data, x=\"flipper_length_mm\", hue=\"species\", palette=colour_palette, multiple=\"layer\")"
   ]
  },
  {
   "cell_type": "markdown",
   "id": "6c515edb-e258-4292-8eeb-f71a813fff84",
   "metadata": {},
   "source": [
    "We can also use facets to prevent the data from overlapping altogether by specifying ``col=\"species\"``."
   ]
  },
  {
   "cell_type": "code",
   "execution_count": null,
   "id": "20bd30fa-c849-462c-b454-8d0a31693f0d",
   "metadata": {},
   "outputs": [],
   "source": [
    "sns.displot(data=data, x=\"flipper_length_mm\", hue=\"species\", palette=colour_palette, col=\"species\", legend=False)"
   ]
  },
  {
   "cell_type": "markdown",
   "id": "1079bc07-897a-47df-9947-2a0de74578e6",
   "metadata": {},
   "source": [
    "Another way to visualise distributions is kernel density estimation. Run the code in the next cell, and then try changing the x-axis label and adding a title."
   ]
  },
  {
   "cell_type": "code",
   "execution_count": null,
   "id": "b8b916c1-9919-493f-8152-09d14e9e2707",
   "metadata": {},
   "outputs": [],
   "source": [
    "sns.kdeplot(data=data, x=\"flipper_length_mm\", hue=\"species\", palette=colour_palette, fill=True, alpha=0.5)"
   ]
  },
  {
   "cell_type": "markdown",
   "id": "a5b7a13f-9404-4203-beda-9d251810eac6",
   "metadata": {},
   "source": [
    "We can also combine multiple plots at the same time, by first laying out a grid with ``plt.subplots`` and then plotting different data in the different panels. In the following code:\n",
    "- ``fig`` is the overall plotting area which combines all the different subplots\n",
    "- Each element of ``axes`` is a subplot\n",
    "- The first two arguments to ``plt.subplots`` specify how many rows and columns we want -- you could swap these numbers around if you want the subplots to stack vertically instead of horizontally\n",
    "- ``figsize`` specifies the overall plotting area which will contain the subplots\n",
    "- ``gridspec_kw`` specifies the size of each subplot relative to the others -- you can remove this argument to make them all the same size\n",
    "- ``sns.scatterplot`` will be the first subplot because it's assigned to ``axes[0]``; ``sns.histplot`` will be the second subplot because it's assigned to ``axes[1]`` (remember Python starts counting at zero!)\n",
    "- ``fig.tight_layout()`` puts a bit of space between the subplots\n",
    "\n",
    "It looks like a lot of elements, but just play around with them and see what happens! "
   ]
  },
  {
   "cell_type": "code",
   "execution_count": null,
   "id": "8eb08ce2-e48c-4d72-a03c-caa926e5b0f6",
   "metadata": {},
   "outputs": [],
   "source": [
    "fig, axes = plt.subplots(1, 2, figsize=(8, 4), gridspec_kw=dict(width_ratios=[4, 3]))\n",
    "sns.scatterplot(data=data, x=\"flipper_length_mm\", y=\"bill_length_mm\", hue=\"species\", palette=colour_palette, ax=axes[0])\n",
    "sns.histplot(data=data, x=\"species\", hue=\"species\", palette=colour_palette, shrink=.8, alpha=.8, legend=False, ax=axes[1])\n",
    "fig.tight_layout()"
   ]
  },
  {
   "cell_type": "markdown",
   "id": "d893bf68-f454-4476-81df-2e8685eb0489",
   "metadata": {},
   "source": [
    "Seaborn also makes it easy to create some pretty complex and aesthetically pleasing plots. For example, we can show the joint distribution of two variables along with marginal axes that show the univariate distribution of each one separately, as follows:"
   ]
  },
  {
   "cell_type": "code",
   "execution_count": null,
   "id": "fbd1371e-aff9-41ea-9f92-e71bdec97e0b",
   "metadata": {},
   "outputs": [],
   "source": [
    "sns.jointplot(data=data, x=\"flipper_length_mm\", y=\"bill_length_mm\", hue=\"species\", palette=colour_palette)"
   ]
  },
  {
   "cell_type": "markdown",
   "id": "9a4b5cfb-65ed-4ee8-b1c8-06426c243a93",
   "metadata": {},
   "source": [
    "To save any of your plots, you can add ``plt.savefig(\"plot_name_here.png\")`` (or whatever format you want instead of .png) in the same cell as the code that generates the plot. There are various things you can specify when you save, like size, transparency and DPI. It's good practice to call ``plt.close()`` after saving to free up memory.\n",
    "\n",
    "Play around with the dataset and see what other graphs you can come up with. For example, you could see whether various aspects of a penguin's body size seem to vary more according to their species or their sex. Feel free to try some of these plotting functions with your own datasets too -- there's plenty of other kinds of plots that might be useful in your own work but wouldn't make sense for the penguins dataset e.g. time series data. Remember to refer to the [seaborn documentation](https://seaborn.pydata.org/tutorial.html) to get new ideas or help implementing something you're trying!"
   ]
  },
  {
   "cell_type": "code",
   "execution_count": null,
   "id": "97949707-27cd-42a5-a666-38a58afeca3a",
   "metadata": {},
   "outputs": [],
   "source": []
  },
  {
   "cell_type": "code",
   "execution_count": null,
   "id": "e366a272-9d1d-4a28-84ab-616d5728d731",
   "metadata": {},
   "outputs": [],
   "source": []
  },
  {
   "cell_type": "code",
   "execution_count": null,
   "id": "b83354c2-4310-4496-a182-0f15e976ad73",
   "metadata": {},
   "outputs": [],
   "source": []
  }
 ],
 "metadata": {
  "kernelspec": {
   "display_name": "Python 3 (ipykernel)",
   "language": "python",
   "name": "python3"
  },
  "language_info": {
   "codemirror_mode": {
    "name": "ipython",
    "version": 3
   },
   "file_extension": ".py",
   "mimetype": "text/x-python",
   "name": "python",
   "nbconvert_exporter": "python",
   "pygments_lexer": "ipython3",
   "version": "3.11.7"
  }
 },
 "nbformat": 4,
 "nbformat_minor": 5
}
